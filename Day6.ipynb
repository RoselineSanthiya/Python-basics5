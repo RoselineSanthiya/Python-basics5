{
  "nbformat": 4,
  "nbformat_minor": 0,
  "metadata": {
    "colab": {
      "provenance": []
    },
    "kernelspec": {
      "name": "python3",
      "display_name": "Python 3"
    },
    "language_info": {
      "name": "python"
    }
  },
  "cells": [
    {
      "cell_type": "code",
      "execution_count": null,
      "metadata": {
        "colab": {
          "base_uri": "https://localhost:8080/"
        },
        "id": "nEYwLOen_Rn3",
        "outputId": "b579fd9f-f0c6-4080-90d8-fa36bc2155a7"
      },
      "outputs": [
        {
          "output_type": "stream",
          "name": "stdout",
          "text": [
            "Roseline\n",
            "8\n",
            "length of str1 is 8\n",
            "RoselineRoseline\n",
            "True\n"
          ]
        }
      ],
      "source": [
        "str1=\"Roseline\"\n",
        "str2=\"Roseline\"\n",
        "str2 in str1\n",
        "str1 not in str2\n",
        "print (str1)\n",
        "len(str1)\n",
        "str1[5]\n",
        "print (len(str2))\n",
        "print (\"length of str1 is\",8)\n",
        "print (str1+str2)\n",
        "print (str1 is str2)"
      ]
    },
    {
      "cell_type": "code",
      "source": [
        "x=input (\"enter the value 1\")"
      ],
      "metadata": {
        "colab": {
          "base_uri": "https://localhost:8080/"
        },
        "id": "c-59r7Y7DhP6",
        "outputId": "03b1636e-23fa-4aef-ab88-83ff9e1f9adf"
      },
      "execution_count": null,
      "outputs": [
        {
          "name": "stdout",
          "output_type": "stream",
          "text": [
            "enter the value 1Milk \n"
          ]
        }
      ]
    },
    {
      "cell_type": "code",
      "source": [
        "y=input (\"enter the value 2\")"
      ],
      "metadata": {
        "colab": {
          "base_uri": "https://localhost:8080/"
        },
        "id": "PbVwwgsUD21q",
        "outputId": "2810a7e0-b5e2-47de-c897-cc8c377fdaaf"
      },
      "execution_count": null,
      "outputs": [
        {
          "name": "stdout",
          "output_type": "stream",
          "text": [
            "enter the value 2Tea\n"
          ]
        }
      ]
    },
    {
      "cell_type": "code",
      "source": [
        "print (\"addition of x+y is\",x+y)"
      ],
      "metadata": {
        "colab": {
          "base_uri": "https://localhost:8080/"
        },
        "id": "X72OCq4YD8o5",
        "outputId": "0dc503c2-1bae-4daf-802d-5c6c28bf39d0"
      },
      "execution_count": null,
      "outputs": [
        {
          "output_type": "stream",
          "name": "stdout",
          "text": [
            "addition of x+y is Milk Tea\n"
          ]
        }
      ]
    },
    {
      "cell_type": "code",
      "source": [
        "print (x is y)"
      ],
      "metadata": {
        "colab": {
          "base_uri": "https://localhost:8080/"
        },
        "id": "Hgaup-_REH5N",
        "outputId": "60c46f67-7d53-46b7-9793-47486f8f7872"
      },
      "execution_count": null,
      "outputs": [
        {
          "output_type": "stream",
          "name": "stdout",
          "text": [
            "False\n"
          ]
        }
      ]
    },
    {
      "cell_type": "code",
      "source": [
        "print (x not in y)"
      ],
      "metadata": {
        "colab": {
          "base_uri": "https://localhost:8080/"
        },
        "id": "fOrLRh17ERts",
        "outputId": "2e588beb-78c6-4225-eb67-8f92fd42ea3b"
      },
      "execution_count": null,
      "outputs": [
        {
          "output_type": "stream",
          "name": "stdout",
          "text": [
            "True\n"
          ]
        }
      ]
    },
    {
      "cell_type": "code",
      "source": [
        "print (len(x))"
      ],
      "metadata": {
        "colab": {
          "base_uri": "https://localhost:8080/"
        },
        "id": "QN-nDte6E67g",
        "outputId": "1918c2b9-1598-414d-db92-f0d571cb4f5a"
      },
      "execution_count": null,
      "outputs": [
        {
          "output_type": "stream",
          "name": "stdout",
          "text": [
            "5\n"
          ]
        }
      ]
    },
    {
      "cell_type": "code",
      "source": [
        "print (len(y))"
      ],
      "metadata": {
        "colab": {
          "base_uri": "https://localhost:8080/"
        },
        "id": "co13lR3TFM4G",
        "outputId": "cf88ec1b-0fb7-49b6-f0cd-caf8f4db0f6c"
      },
      "execution_count": null,
      "outputs": [
        {
          "output_type": "stream",
          "name": "stdout",
          "text": [
            "3\n"
          ]
        }
      ]
    },
    {
      "cell_type": "code",
      "source": [
        "x[1]"
      ],
      "metadata": {
        "colab": {
          "base_uri": "https://localhost:8080/",
          "height": 35
        },
        "id": "ICZEnoUkFW4P",
        "outputId": "30751866-7b68-43c4-df75-207e4c4ff711"
      },
      "execution_count": null,
      "outputs": [
        {
          "output_type": "execute_result",
          "data": {
            "text/plain": [
              "'i'"
            ],
            "application/vnd.google.colaboratory.intrinsic+json": {
              "type": "string"
            }
          },
          "metadata": {},
          "execution_count": 35
        }
      ]
    },
    {
      "cell_type": "code",
      "source": [
        "y[2]"
      ],
      "metadata": {
        "colab": {
          "base_uri": "https://localhost:8080/",
          "height": 35
        },
        "id": "4ZpG8ZfnFiwy",
        "outputId": "b0abaa49-631a-4727-fcb6-bfa729fb760b"
      },
      "execution_count": null,
      "outputs": [
        {
          "output_type": "execute_result",
          "data": {
            "text/plain": [
              "'a'"
            ],
            "application/vnd.google.colaboratory.intrinsic+json": {
              "type": "string"
            }
          },
          "metadata": {},
          "execution_count": 37
        }
      ]
    },
    {
      "cell_type": "code",
      "source": [
        "class(beverages)"
      ],
      "metadata": {
        "id": "iOSQQkk0a866"
      },
      "execution_count": null,
      "outputs": []
    },
    {
      "cell_type": "code",
      "source": [
        "x=88\n",
        "print (bin(x))\n",
        "print (hex(x))\n",
        "print (oct(x))\n",
        "y=1111\n",
        "print (hex(y))"
      ],
      "metadata": {
        "colab": {
          "base_uri": "https://localhost:8080/"
        },
        "id": "KzYtLAKC5_NE",
        "outputId": "512a10d3-c71e-48d7-cfa5-07264a29877c"
      },
      "execution_count": null,
      "outputs": [
        {
          "output_type": "stream",
          "name": "stdout",
          "text": [
            "0b1011000\n",
            "0x58\n",
            "0o130\n",
            "0x457\n"
          ]
        }
      ]
    },
    {
      "cell_type": "code",
      "source": [
        "x=1098\n",
        "print (hex(x))\n",
        "y=44\n",
        "print (bin(y))\n",
        "print (oct(x))\n",
        "print (oct(y))"
      ],
      "metadata": {
        "colab": {
          "base_uri": "https://localhost:8080/"
        },
        "id": "Pi-pW8LXVUo2",
        "outputId": "4f0ca85d-acd7-4288-9ab2-cd6ff7251924"
      },
      "execution_count": null,
      "outputs": [
        {
          "output_type": "stream",
          "name": "stdout",
          "text": [
            "0x44a\n",
            "0b101100\n",
            "0o2112\n",
            "0o54\n"
          ]
        }
      ]
    },
    {
      "cell_type": "code",
      "source": [
        "x=173\n",
        "print (bin(x))\n",
        "\n",
        "2**8\n",
        "print (bin(9))\n",
        "print (bin(13))\n",
        "print (bin(3))\n",
        "print (bin(11))\n",
        "print (bin(14))\n",
        "print (bin(12))\n",
        "print (bin(2))\n",
        "print (bin(85))\n",
        "print (bin(32))\n",
        "print (bin(97))\n",
        "print (bin(105))\n",
        "print (bin(147))\n",
        "print (bin(240))\n",
        "print (bin(63))\n",
        "print (bin(81))\n",
        "print (bin(255))"
      ],
      "metadata": {
        "colab": {
          "base_uri": "https://localhost:8080/"
        },
        "id": "QadZj8UIXjPI",
        "outputId": "102aeb23-5dfb-4f5c-dfcc-b5d5c543be1e"
      },
      "execution_count": null,
      "outputs": [
        {
          "output_type": "stream",
          "name": "stdout",
          "text": [
            "0b10101101\n",
            "0b1001\n",
            "0b1101\n",
            "0b11\n",
            "0b1011\n",
            "0b1110\n",
            "0b1100\n",
            "0b10\n",
            "0b1010101\n",
            "0b100000\n",
            "0b1100001\n",
            "0b1101001\n",
            "0b10010011\n",
            "0b11110000\n",
            "0b111111\n",
            "0b1010001\n",
            "0b11111111\n"
          ]
        }
      ]
    },
    {
      "cell_type": "code",
      "source": [
        "256**3\n",
        "print(hex(165))"
      ],
      "metadata": {
        "colab": {
          "base_uri": "https://localhost:8080/"
        },
        "id": "pl-eiKYLgyxS",
        "outputId": "b4da2d85-9a5e-4f61-88f4-48092f43bbb1"
      },
      "execution_count": null,
      "outputs": [
        {
          "output_type": "stream",
          "name": "stdout",
          "text": [
            "0xa5\n"
          ]
        }
      ]
    },
    {
      "cell_type": "code",
      "source": [
        "\n",
        "format(255,'b')\n",
        "print (format (288,'b'))\n",
        "print (format (266,'x'))\n",
        "print (format (255,'o'))"
      ],
      "metadata": {
        "colab": {
          "base_uri": "https://localhost:8080/"
        },
        "id": "UDXC0q2HoPVA",
        "outputId": "fda2650d-8b9e-4e40-eaa0-4ba85c9c430b"
      },
      "execution_count": null,
      "outputs": [
        {
          "output_type": "stream",
          "name": "stdout",
          "text": [
            "100100000\n",
            "10a\n",
            "377\n"
          ]
        }
      ]
    }
  ]
}